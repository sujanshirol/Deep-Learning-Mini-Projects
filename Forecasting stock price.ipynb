{
 "cells": [
  {
   "cell_type": "markdown",
   "metadata": {},
   "source": [
    "# Reccurent Neural Network"
   ]
  },
  {
   "cell_type": "markdown",
   "metadata": {},
   "source": [
    "# 1. Data Preprocessing"
   ]
  },
  {
   "cell_type": "markdown",
   "metadata": {},
   "source": [
    "## Importing libraries"
   ]
  },
  {
   "cell_type": "code",
   "execution_count": 1,
   "metadata": {},
   "outputs": [],
   "source": [
    "import numpy as np\n",
    "import matplotlib.pyplot as plt\n",
    "import pandas as pd\n",
    "\n",
    "from sklearn.preprocessing import MinMaxScaler\n",
    "\n",
    "import tensorflow as tf\n",
    "from tensorflow.keras.models import Sequential\n",
    "from tensorflow.keras.layers import Dense, LSTM, Dropout"
   ]
  },
  {
   "cell_type": "markdown",
   "metadata": {},
   "source": [
    "## Importing training data"
   ]
  },
  {
   "cell_type": "code",
   "execution_count": 2,
   "metadata": {},
   "outputs": [
    {
     "data": {
      "text/html": [
       "<div>\n",
       "<style scoped>\n",
       "    .dataframe tbody tr th:only-of-type {\n",
       "        vertical-align: middle;\n",
       "    }\n",
       "\n",
       "    .dataframe tbody tr th {\n",
       "        vertical-align: top;\n",
       "    }\n",
       "\n",
       "    .dataframe thead th {\n",
       "        text-align: right;\n",
       "    }\n",
       "</style>\n",
       "<table border=\"1\" class=\"dataframe\">\n",
       "  <thead>\n",
       "    <tr style=\"text-align: right;\">\n",
       "      <th></th>\n",
       "      <th>Date</th>\n",
       "      <th>Open</th>\n",
       "      <th>High</th>\n",
       "      <th>Low</th>\n",
       "      <th>Close</th>\n",
       "      <th>Volume</th>\n",
       "    </tr>\n",
       "  </thead>\n",
       "  <tbody>\n",
       "    <tr>\n",
       "      <th>0</th>\n",
       "      <td>1/3/2012</td>\n",
       "      <td>325.25</td>\n",
       "      <td>332.83</td>\n",
       "      <td>324.97</td>\n",
       "      <td>663.59</td>\n",
       "      <td>7,380,500</td>\n",
       "    </tr>\n",
       "    <tr>\n",
       "      <th>1</th>\n",
       "      <td>1/4/2012</td>\n",
       "      <td>331.27</td>\n",
       "      <td>333.87</td>\n",
       "      <td>329.08</td>\n",
       "      <td>666.45</td>\n",
       "      <td>5,749,400</td>\n",
       "    </tr>\n",
       "    <tr>\n",
       "      <th>2</th>\n",
       "      <td>1/5/2012</td>\n",
       "      <td>329.83</td>\n",
       "      <td>330.75</td>\n",
       "      <td>326.89</td>\n",
       "      <td>657.21</td>\n",
       "      <td>6,590,300</td>\n",
       "    </tr>\n",
       "    <tr>\n",
       "      <th>3</th>\n",
       "      <td>1/6/2012</td>\n",
       "      <td>328.34</td>\n",
       "      <td>328.77</td>\n",
       "      <td>323.68</td>\n",
       "      <td>648.24</td>\n",
       "      <td>5,405,900</td>\n",
       "    </tr>\n",
       "    <tr>\n",
       "      <th>4</th>\n",
       "      <td>1/9/2012</td>\n",
       "      <td>322.04</td>\n",
       "      <td>322.29</td>\n",
       "      <td>309.46</td>\n",
       "      <td>620.76</td>\n",
       "      <td>11,688,800</td>\n",
       "    </tr>\n",
       "  </tbody>\n",
       "</table>\n",
       "</div>"
      ],
      "text/plain": [
       "       Date    Open    High     Low   Close      Volume\n",
       "0  1/3/2012  325.25  332.83  324.97  663.59   7,380,500\n",
       "1  1/4/2012  331.27  333.87  329.08  666.45   5,749,400\n",
       "2  1/5/2012  329.83  330.75  326.89  657.21   6,590,300\n",
       "3  1/6/2012  328.34  328.77  323.68  648.24   5,405,900\n",
       "4  1/9/2012  322.04  322.29  309.46  620.76  11,688,800"
      ]
     },
     "execution_count": 2,
     "metadata": {},
     "output_type": "execute_result"
    }
   ],
   "source": [
    "data_train = pd.read_csv(r'D:\\Deep Learning Course\\Datasets\\Google stock price\\Google_Stock_Price_Train.csv')\n",
    "data_train.head()"
   ]
  },
  {
   "cell_type": "code",
   "execution_count": 3,
   "metadata": {},
   "outputs": [
    {
     "data": {
      "text/plain": [
       "(1258, 1)"
      ]
     },
     "execution_count": 3,
     "metadata": {},
     "output_type": "execute_result"
    }
   ],
   "source": [
    "# creating numpy array since NN will understand only arrays\n",
    "# sliceing for only 'Open'  column\n",
    "train_set = data_train.iloc[:, 1:2].values\n",
    "train_set.shape"
   ]
  },
  {
   "cell_type": "markdown",
   "metadata": {},
   "source": [
    "## Feature scaling\n",
    "Normalization is recommended for RNN especially when output neuron has a sigmoid function"
   ]
  },
  {
   "cell_type": "code",
   "execution_count": 4,
   "metadata": {},
   "outputs": [
    {
     "data": {
      "text/plain": [
       "array([[0.08581368],\n",
       "       [0.09701243],\n",
       "       [0.09433366],\n",
       "       ...,\n",
       "       [0.95725128],\n",
       "       [0.93796041],\n",
       "       [0.93688146]])"
      ]
     },
     "execution_count": 4,
     "metadata": {},
     "output_type": "execute_result"
    }
   ],
   "source": [
    "sc = MinMaxScaler()\n",
    "train_set_sc = sc.fit_transform(train_set)\n",
    "train_set_sc"
   ]
  },
  {
   "cell_type": "markdown",
   "metadata": {},
   "source": [
    "## Creating a data structure\n",
    "Creating data structure with 60 timesteps and 1 output. Meaning, at each time `t` the RNN will look back at 60 stock prices and based on the this trand it will predict 1 output. For each pretiction `t+1` we will be looking back 3 months data."
   ]
  },
  {
   "cell_type": "code",
   "execution_count": 5,
   "metadata": {},
   "outputs": [],
   "source": [
    "# X_train: input to NN, will contain the 60 previous prices for each financial day\n",
    "# y_train: output, price of next financial day\n",
    "\n",
    "X_train = []\n",
    "y_train = []\n",
    "\n",
    "for i in range(60, train_set.shape[0]):\n",
    "    \n",
    "    # 60 previous days before date `ti`\n",
    "    X_train.append(train_set_sc[i-60:i, 0])\n",
    "    y_train.append(train_set_sc[i])\n",
    "    \n",
    "# converting into array\n",
    "X_train, y_train = np.array(X_train), np.array(y_train)"
   ]
  },
  {
   "cell_type": "code",
   "execution_count": 6,
   "metadata": {},
   "outputs": [],
   "source": [
    "# Reshaping\n",
    "# adding more dimensions to the data i.e. adding no.of predictors.\n",
    "# These predictors are indicators.Right now only 1 indicator that is `Open`\n",
    "# if we think there are other indicators we can add them\n",
    "\n",
    "X_train = np.reshape(X_train, (X_train.shape[0], X_train.shape[1], 1))"
   ]
  },
  {
   "cell_type": "markdown",
   "metadata": {},
   "source": [
    "# 2. Building RNN"
   ]
  },
  {
   "cell_type": "markdown",
   "metadata": {},
   "source": [
    "## Initializing RNN"
   ]
  },
  {
   "cell_type": "code",
   "execution_count": 7,
   "metadata": {},
   "outputs": [],
   "source": [
    "regressor = Sequential()"
   ]
  },
  {
   "cell_type": "markdown",
   "metadata": {},
   "source": [
    "## Adding first LSTM layer and some Dropout regularisation\n",
    "Dropout regularisation to avoid overfitting"
   ]
  },
  {
   "cell_type": "code",
   "execution_count": 8,
   "metadata": {},
   "outputs": [],
   "source": [
    "# units: no.of LSTM memory cells(neurons)\n",
    "# return_sequences: True if more than 1 LSTM layes\n",
    "\n",
    "regressor.add(\n",
    "            LSTM(units = 50, \n",
    "                 return_sequences = True, \n",
    "                 input_shape = (X_train.shape[1], 1)\n",
    "                ))\n",
    "\n",
    "# 20% dropout: 20%=1= neurons will be ignored during each iteration\n",
    "regressor.add(Dropout(0.2))"
   ]
  },
  {
   "cell_type": "markdown",
   "metadata": {},
   "source": [
    "## Adding second LSTM layer and some Dropout regularisation"
   ]
  },
  {
   "cell_type": "code",
   "execution_count": 9,
   "metadata": {},
   "outputs": [],
   "source": [
    "regressor.add(LSTM(units = 50, return_sequences = True))\n",
    "regressor.add(Dropout(0.2))"
   ]
  },
  {
   "cell_type": "markdown",
   "metadata": {},
   "source": [
    "## Adding third LSTM layer and some Dropout regularisation"
   ]
  },
  {
   "cell_type": "code",
   "execution_count": 10,
   "metadata": {},
   "outputs": [],
   "source": [
    "regressor.add(LSTM(units = 50, return_sequences = True))\n",
    "regressor.add(Dropout(0.2))"
   ]
  },
  {
   "cell_type": "markdown",
   "metadata": {},
   "source": [
    "## Adding fourth LSTM layer and some Dropout regularisation"
   ]
  },
  {
   "cell_type": "code",
   "execution_count": 11,
   "metadata": {},
   "outputs": [],
   "source": [
    "regressor.add(LSTM(units = 50))\n",
    "regressor.add(Dropout(0.2))"
   ]
  },
  {
   "cell_type": "markdown",
   "metadata": {},
   "source": [
    "## Adding output layer"
   ]
  },
  {
   "cell_type": "code",
   "execution_count": 12,
   "metadata": {},
   "outputs": [],
   "source": [
    "regressor.add(Dense(units = 1))"
   ]
  },
  {
   "cell_type": "markdown",
   "metadata": {},
   "source": [
    "## Compiling the RNN"
   ]
  },
  {
   "cell_type": "code",
   "execution_count": 13,
   "metadata": {},
   "outputs": [],
   "source": [
    "regressor.compile(optimizer = 'adam', loss = 'mean_squared_error')"
   ]
  },
  {
   "cell_type": "markdown",
   "metadata": {},
   "source": [
    "## Fitting the RNN"
   ]
  },
  {
   "cell_type": "code",
   "execution_count": 14,
   "metadata": {
    "scrolled": true
   },
   "outputs": [
    {
     "name": "stdout",
     "output_type": "stream",
     "text": [
      "Epoch 1/100\n",
      "38/38 [==============================] - 13s 27ms/step - loss: 0.0920\n",
      "Epoch 2/100\n",
      "38/38 [==============================] - 1s 22ms/step - loss: 0.0072\n",
      "Epoch 3/100\n",
      "38/38 [==============================] - 1s 21ms/step - loss: 0.0067\n",
      "Epoch 4/100\n",
      "38/38 [==============================] - 1s 21ms/step - loss: 0.0060\n",
      "Epoch 5/100\n",
      "38/38 [==============================] - 1s 21ms/step - loss: 0.0060\n",
      "Epoch 6/100\n",
      "38/38 [==============================] - 1s 21ms/step - loss: 0.0047: 0s - loss: 0.\n",
      "Epoch 7/100\n",
      "38/38 [==============================] - 1s 21ms/step - loss: 0.0051\n",
      "Epoch 8/100\n",
      "38/38 [==============================] - 1s 22ms/step - loss: 0.0062\n",
      "Epoch 9/100\n",
      "38/38 [==============================] - 1s 22ms/step - loss: 0.0046\n",
      "Epoch 10/100\n",
      "38/38 [==============================] - 1s 22ms/step - loss: 0.0048\n",
      "Epoch 11/100\n",
      "38/38 [==============================] - 1s 22ms/step - loss: 0.0043\n",
      "Epoch 12/100\n",
      "38/38 [==============================] - 1s 22ms/step - loss: 0.0045\n",
      "Epoch 13/100\n",
      "38/38 [==============================] - 1s 21ms/step - loss: 0.0039\n",
      "Epoch 14/100\n",
      "38/38 [==============================] - 1s 22ms/step - loss: 0.0038\n",
      "Epoch 15/100\n",
      "38/38 [==============================] - 1s 21ms/step - loss: 0.0045\n",
      "Epoch 16/100\n",
      "38/38 [==============================] - 1s 21ms/step - loss: 0.0044\n",
      "Epoch 17/100\n",
      "38/38 [==============================] - 1s 22ms/step - loss: 0.0042\n",
      "Epoch 18/100\n",
      "38/38 [==============================] - 1s 22ms/step - loss: 0.0043\n",
      "Epoch 19/100\n",
      "38/38 [==============================] - 1s 22ms/step - loss: 0.0035\n",
      "Epoch 20/100\n",
      "38/38 [==============================] - 1s 21ms/step - loss: 0.0037\n",
      "Epoch 21/100\n",
      "38/38 [==============================] - 1s 21ms/step - loss: 0.0036\n",
      "Epoch 22/100\n",
      "38/38 [==============================] - 1s 21ms/step - loss: 0.0032\n",
      "Epoch 23/100\n",
      "38/38 [==============================] - 1s 21ms/step - loss: 0.0037\n",
      "Epoch 24/100\n",
      "38/38 [==============================] - 1s 21ms/step - loss: 0.0033\n",
      "Epoch 25/100\n",
      "38/38 [==============================] - 1s 21ms/step - loss: 0.0039\n",
      "Epoch 26/100\n",
      "38/38 [==============================] - 1s 21ms/step - loss: 0.0031\n",
      "Epoch 27/100\n",
      "38/38 [==============================] - 1s 21ms/step - loss: 0.0027\n",
      "Epoch 28/100\n",
      "38/38 [==============================] - 1s 21ms/step - loss: 0.0028\n",
      "Epoch 29/100\n",
      "38/38 [==============================] - 1s 21ms/step - loss: 0.0029\n",
      "Epoch 30/100\n",
      "38/38 [==============================] - 1s 22ms/step - loss: 0.0030\n",
      "Epoch 31/100\n",
      "38/38 [==============================] - 1s 27ms/step - loss: 0.0029\n",
      "Epoch 32/100\n",
      "38/38 [==============================] - 1s 22ms/step - loss: 0.0033\n",
      "Epoch 33/100\n",
      "38/38 [==============================] - 1s 23ms/step - loss: 0.0026\n",
      "Epoch 34/100\n",
      "38/38 [==============================] - 1s 22ms/step - loss: 0.0029\n",
      "Epoch 35/100\n",
      "38/38 [==============================] - 1s 22ms/step - loss: 0.0031\n",
      "Epoch 36/100\n",
      "38/38 [==============================] - 1s 22ms/step - loss: 0.0028\n",
      "Epoch 37/100\n",
      "38/38 [==============================] - 1s 22ms/step - loss: 0.0033\n",
      "Epoch 38/100\n",
      "38/38 [==============================] - 1s 22ms/step - loss: 0.0029\n",
      "Epoch 39/100\n",
      "38/38 [==============================] - 1s 22ms/step - loss: 0.0031\n",
      "Epoch 40/100\n",
      "38/38 [==============================] - 1s 22ms/step - loss: 0.0024: 0s - los\n",
      "Epoch 41/100\n",
      "38/38 [==============================] - 1s 23ms/step - loss: 0.0025\n",
      "Epoch 42/100\n",
      "38/38 [==============================] - 1s 23ms/step - loss: 0.0030\n",
      "Epoch 43/100\n",
      "38/38 [==============================] - 1s 22ms/step - loss: 0.0023\n",
      "Epoch 44/100\n",
      "38/38 [==============================] - 1s 22ms/step - loss: 0.0028\n",
      "Epoch 45/100\n",
      "38/38 [==============================] - 1s 22ms/step - loss: 0.0025\n",
      "Epoch 46/100\n",
      "38/38 [==============================] - 1s 22ms/step - loss: 0.0023\n",
      "Epoch 47/100\n",
      "38/38 [==============================] - 1s 22ms/step - loss: 0.0024\n",
      "Epoch 48/100\n",
      "38/38 [==============================] - 1s 22ms/step - loss: 0.0022\n",
      "Epoch 49/100\n",
      "38/38 [==============================] - 1s 22ms/step - loss: 0.0022\n",
      "Epoch 50/100\n",
      "38/38 [==============================] - 1s 22ms/step - loss: 0.0022\n",
      "Epoch 51/100\n",
      "38/38 [==============================] - 1s 22ms/step - loss: 0.0022\n",
      "Epoch 52/100\n",
      "38/38 [==============================] - 1s 22ms/step - loss: 0.0024\n",
      "Epoch 53/100\n",
      "38/38 [==============================] - 1s 22ms/step - loss: 0.0024\n",
      "Epoch 54/100\n",
      "38/38 [==============================] - 1s 22ms/step - loss: 0.0029\n",
      "Epoch 55/100\n",
      "38/38 [==============================] - 1s 22ms/step - loss: 0.0021\n",
      "Epoch 56/100\n",
      "38/38 [==============================] - 1s 23ms/step - loss: 0.0022\n",
      "Epoch 57/100\n",
      "38/38 [==============================] - 1s 22ms/step - loss: 0.0021\n",
      "Epoch 58/100\n",
      "38/38 [==============================] - 1s 23ms/step - loss: 0.0021\n",
      "Epoch 59/100\n",
      "38/38 [==============================] - 1s 22ms/step - loss: 0.0020\n",
      "Epoch 60/100\n",
      "38/38 [==============================] - 1s 22ms/step - loss: 0.0018\n",
      "Epoch 61/100\n",
      "38/38 [==============================] - 1s 22ms/step - loss: 0.0023\n",
      "Epoch 62/100\n",
      "38/38 [==============================] - 1s 22ms/step - loss: 0.0025\n",
      "Epoch 63/100\n",
      "38/38 [==============================] - 1s 22ms/step - loss: 0.0021\n",
      "Epoch 64/100\n",
      "38/38 [==============================] - 1s 22ms/step - loss: 0.0022\n",
      "Epoch 65/100\n",
      "38/38 [==============================] - 1s 21ms/step - loss: 0.0018\n",
      "Epoch 66/100\n",
      "38/38 [==============================] - 1s 22ms/step - loss: 0.0018\n",
      "Epoch 67/100\n",
      "38/38 [==============================] - 1s 22ms/step - loss: 0.0019\n",
      "Epoch 68/100\n",
      "38/38 [==============================] - 1s 23ms/step - loss: 0.0018\n",
      "Epoch 69/100\n",
      "38/38 [==============================] - 1s 22ms/step - loss: 0.0016\n",
      "Epoch 70/100\n",
      "38/38 [==============================] - 1s 22ms/step - loss: 0.0018\n",
      "Epoch 71/100\n",
      "38/38 [==============================] - 1s 22ms/step - loss: 0.0017\n",
      "Epoch 72/100\n",
      "38/38 [==============================] - 1s 22ms/step - loss: 0.0019\n",
      "Epoch 73/100\n",
      "38/38 [==============================] - 1s 22ms/step - loss: 0.0018\n",
      "Epoch 74/100\n",
      "38/38 [==============================] - 1s 22ms/step - loss: 0.0018\n",
      "Epoch 75/100\n",
      "38/38 [==============================] - 1s 22ms/step - loss: 0.0018\n",
      "Epoch 76/100\n",
      "38/38 [==============================] - 1s 21ms/step - loss: 0.0020\n",
      "Epoch 77/100\n",
      "38/38 [==============================] - 1s 21ms/step - loss: 0.0017\n",
      "Epoch 78/100\n",
      "38/38 [==============================] - 1s 22ms/step - loss: 0.0014\n",
      "Epoch 79/100\n",
      "38/38 [==============================] - 1s 22ms/step - loss: 0.0017\n",
      "Epoch 80/100\n",
      "38/38 [==============================] - 1s 21ms/step - loss: 0.0014\n",
      "Epoch 81/100\n",
      "38/38 [==============================] - 1s 21ms/step - loss: 0.0017\n",
      "Epoch 82/100\n",
      "38/38 [==============================] - 1s 21ms/step - loss: 0.0015\n",
      "Epoch 83/100\n",
      "38/38 [==============================] - 1s 22ms/step - loss: 0.0016\n",
      "Epoch 84/100\n",
      "38/38 [==============================] - 1s 21ms/step - loss: 0.0015\n",
      "Epoch 85/100\n",
      "38/38 [==============================] - 1s 21ms/step - loss: 0.0015\n",
      "Epoch 86/100\n",
      "38/38 [==============================] - 1s 22ms/step - loss: 0.0016\n",
      "Epoch 87/100\n",
      "38/38 [==============================] - 1s 21ms/step - loss: 0.0016\n",
      "Epoch 88/100\n",
      "38/38 [==============================] - 1s 22ms/step - loss: 0.0016\n",
      "Epoch 89/100\n",
      "38/38 [==============================] - 1s 21ms/step - loss: 0.0016\n",
      "Epoch 90/100\n",
      "38/38 [==============================] - 1s 22ms/step - loss: 0.0016\n",
      "Epoch 91/100\n",
      "38/38 [==============================] - 1s 22ms/step - loss: 0.0018\n",
      "Epoch 92/100\n",
      "38/38 [==============================] - 1s 22ms/step - loss: 0.0014\n",
      "Epoch 93/100\n",
      "38/38 [==============================] - 1s 22ms/step - loss: 0.0014\n",
      "Epoch 94/100\n",
      "38/38 [==============================] - 1s 22ms/step - loss: 0.0016\n",
      "Epoch 95/100\n",
      "38/38 [==============================] - 1s 21ms/step - loss: 0.0015\n",
      "Epoch 96/100\n",
      "38/38 [==============================] - 1s 22ms/step - loss: 0.0013: 0s -\n",
      "Epoch 97/100\n",
      "38/38 [==============================] - 1s 21ms/step - loss: 0.0014\n",
      "Epoch 98/100\n",
      "38/38 [==============================] - 1s 21ms/step - loss: 0.0012\n",
      "Epoch 99/100\n",
      "38/38 [==============================] - 1s 22ms/step - loss: 0.0014\n",
      "Epoch 100/100\n",
      "38/38 [==============================] - 1s 21ms/step - loss: 0.0014\n"
     ]
    },
    {
     "data": {
      "text/plain": [
       "<tensorflow.python.keras.callbacks.History at 0x1e1541ed400>"
      ]
     },
     "execution_count": 14,
     "metadata": {},
     "output_type": "execute_result"
    }
   ],
   "source": [
    "regressor.fit(X_train, y_train, epochs = 100, batch_size = 32)"
   ]
  },
  {
   "cell_type": "markdown",
   "metadata": {},
   "source": [
    "# 3. Predictions and evaluation"
   ]
  },
  {
   "cell_type": "markdown",
   "metadata": {},
   "source": [
    "## Getting real stock price data"
   ]
  },
  {
   "cell_type": "code",
   "execution_count": 15,
   "metadata": {},
   "outputs": [
    {
     "data": {
      "text/html": [
       "<div>\n",
       "<style scoped>\n",
       "    .dataframe tbody tr th:only-of-type {\n",
       "        vertical-align: middle;\n",
       "    }\n",
       "\n",
       "    .dataframe tbody tr th {\n",
       "        vertical-align: top;\n",
       "    }\n",
       "\n",
       "    .dataframe thead th {\n",
       "        text-align: right;\n",
       "    }\n",
       "</style>\n",
       "<table border=\"1\" class=\"dataframe\">\n",
       "  <thead>\n",
       "    <tr style=\"text-align: right;\">\n",
       "      <th></th>\n",
       "      <th>Date</th>\n",
       "      <th>Open</th>\n",
       "      <th>High</th>\n",
       "      <th>Low</th>\n",
       "      <th>Close</th>\n",
       "      <th>Volume</th>\n",
       "    </tr>\n",
       "  </thead>\n",
       "  <tbody>\n",
       "    <tr>\n",
       "      <th>0</th>\n",
       "      <td>1/3/2017</td>\n",
       "      <td>778.81</td>\n",
       "      <td>789.63</td>\n",
       "      <td>775.80</td>\n",
       "      <td>786.14</td>\n",
       "      <td>1,657,300</td>\n",
       "    </tr>\n",
       "    <tr>\n",
       "      <th>1</th>\n",
       "      <td>1/4/2017</td>\n",
       "      <td>788.36</td>\n",
       "      <td>791.34</td>\n",
       "      <td>783.16</td>\n",
       "      <td>786.90</td>\n",
       "      <td>1,073,000</td>\n",
       "    </tr>\n",
       "    <tr>\n",
       "      <th>2</th>\n",
       "      <td>1/5/2017</td>\n",
       "      <td>786.08</td>\n",
       "      <td>794.48</td>\n",
       "      <td>785.02</td>\n",
       "      <td>794.02</td>\n",
       "      <td>1,335,200</td>\n",
       "    </tr>\n",
       "    <tr>\n",
       "      <th>3</th>\n",
       "      <td>1/6/2017</td>\n",
       "      <td>795.26</td>\n",
       "      <td>807.90</td>\n",
       "      <td>792.20</td>\n",
       "      <td>806.15</td>\n",
       "      <td>1,640,200</td>\n",
       "    </tr>\n",
       "    <tr>\n",
       "      <th>4</th>\n",
       "      <td>1/9/2017</td>\n",
       "      <td>806.40</td>\n",
       "      <td>809.97</td>\n",
       "      <td>802.83</td>\n",
       "      <td>806.65</td>\n",
       "      <td>1,272,400</td>\n",
       "    </tr>\n",
       "  </tbody>\n",
       "</table>\n",
       "</div>"
      ],
      "text/plain": [
       "       Date    Open    High     Low   Close     Volume\n",
       "0  1/3/2017  778.81  789.63  775.80  786.14  1,657,300\n",
       "1  1/4/2017  788.36  791.34  783.16  786.90  1,073,000\n",
       "2  1/5/2017  786.08  794.48  785.02  794.02  1,335,200\n",
       "3  1/6/2017  795.26  807.90  792.20  806.15  1,640,200\n",
       "4  1/9/2017  806.40  809.97  802.83  806.65  1,272,400"
      ]
     },
     "execution_count": 15,
     "metadata": {},
     "output_type": "execute_result"
    }
   ],
   "source": [
    "data_test = pd.read_csv(r'D:\\Deep Learning Course\\Datasets\\Google stock price\\Google_Stock_Price_Test.csv')\n",
    "data_test.head()"
   ]
  },
  {
   "cell_type": "code",
   "execution_count": 16,
   "metadata": {},
   "outputs": [
    {
     "data": {
      "text/plain": [
       "(20, 1)"
      ]
     },
     "execution_count": 16,
     "metadata": {},
     "output_type": "execute_result"
    }
   ],
   "source": [
    "real_stock_price = data_test.iloc[:, 1:2].values\n",
    "real_stock_price.shape"
   ]
  },
  {
   "cell_type": "markdown",
   "metadata": {},
   "source": [
    "## Getting predicted stock price"
   ]
  },
  {
   "cell_type": "code",
   "execution_count": 17,
   "metadata": {},
   "outputs": [],
   "source": [
    "data_total = pd.concat((data_train['Open'], data_test['Open']), axis = 0)\n",
    "inputs = data_total[len(data_total) - len(data_test) - 60:].values\n",
    "inputs = inputs.reshape(-1, 1)\n",
    "inputs = sc.transform(inputs)"
   ]
  },
  {
   "cell_type": "code",
   "execution_count": 18,
   "metadata": {},
   "outputs": [],
   "source": [
    "X_test = []\n",
    "\n",
    "for i in range(60, real_stock_price.shape[0]+60):\n",
    "    \n",
    "    # 60 previous days before date `ti`\n",
    "    X_test.append(inputs[i-60:i, 0])\n",
    "    \n",
    "# converting into array\n",
    "X_test = np.array(X_test)\n",
    "\n",
    "# converting into 3D shape\n",
    "X_test = np.reshape(X_test, (X_test.shape[0], X_test.shape[1], 1))"
   ]
  },
  {
   "cell_type": "code",
   "execution_count": 19,
   "metadata": {},
   "outputs": [],
   "source": [
    "pred_stock_price = regressor.predict(X_test)\n",
    "pred_stock_price = sc.inverse_transform(pred_stock_price)"
   ]
  },
  {
   "cell_type": "code",
   "execution_count": 20,
   "metadata": {},
   "outputs": [
    {
     "data": {
      "image/png": "[encoded data removed]",
      "text/plain": [
       "<Figure size 432x288 with 1 Axes>"
      ]
     },
     "metadata": {
      "needs_background": "light"
     },
     "output_type": "display_data"
    }
   ],
   "source": [
    "plt.plot(real_stock_price, color = 'red', label = 'Real Google Stock Price')\n",
    "plt.plot(pred_stock_price, color = 'blue', label = 'Predicted Google Stock Price')\n",
    "plt.title('Google Stock Price Prediction')\n",
    "plt.xlabel('Time')\n",
    "plt.ylabel('Google Stock Price')\n",
    "plt.legend()\n",
    "plt.show()"
   ]
  },
  {
   "cell_type": "code",
   "execution_count": 21,
   "metadata": {},
   "outputs": [
    {
     "data": {
      "text/plain": [
       "1.1253977873874168"
      ]
     },
     "execution_count": 21,
     "metadata": {},
     "output_type": "execute_result"
    }
   ],
   "source": [
    "def MAPE(y_true, y_pred):\n",
    "    return np.mean((np.abs(y_true-y_pred))/(y_true))*100\n",
    "\n",
    "MAPE(real_stock_price, pred_stock_price)"
   ]
  },
  {
   "cell_type": "code",
   "execution_count": null,
   "metadata": {},
   "outputs": [],
   "source": []
  }
 ],
 "metadata": {
  "kernelspec": {
   "display_name": "Python 3",
   "language": "python",
   "name": "python3"
  },
  "language_info": {
   "codemirror_mode": {
    "name": "ipython",
    "version": 3
   },
   "file_extension": ".py",
   "mimetype": "text/x-python",
   "name": "python",
   "nbconvert_exporter": "python",
   "pygments_lexer": "ipython3",
   "version": "3.6.6"
  }
 },
 "nbformat": 4,
 "nbformat_minor": 4
}
