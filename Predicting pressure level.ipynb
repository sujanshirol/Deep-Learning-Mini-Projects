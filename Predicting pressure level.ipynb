{
 "cells": [
  {
   "cell_type": "code",
   "execution_count": 20,
   "id": "8d122ea7",
   "metadata": {},
   "outputs": [],
   "source": [
    "import numpy as np\n",
    "import pandas as pd\n",
    "\n",
    "import tensorflow as tf\n",
    "\n",
    "from sklearn.compose import ColumnTransformer\n",
    "from sklearn.preprocessing import OneHotEncoder, LabelEncoder, StandardScaler\n",
    "from sklearn.model_selection import train_test_split\n",
    "from sklearn.metrics import confusion_matrix, accuracy_score, mean_squared_error"
   ]
  },
  {
   "cell_type": "code",
   "execution_count": 2,
   "id": "5515bd98",
   "metadata": {},
   "outputs": [
    {
     "data": {
      "text/plain": [
       "'2.4.1'"
      ]
     },
     "execution_count": 2,
     "metadata": {},
     "output_type": "execute_result"
    }
   ],
   "source": [
    "tf.__version__"
   ]
  },
  {
   "cell_type": "markdown",
   "id": "1a82627c",
   "metadata": {},
   "source": [
    "#  Data Preprocessing"
   ]
  },
  {
   "cell_type": "markdown",
   "id": "fd356eab",
   "metadata": {},
   "source": [
    "## Importing dataset"
   ]
  },
  {
   "cell_type": "code",
   "execution_count": 3,
   "id": "31228138",
   "metadata": {},
   "outputs": [
    {
     "data": {
      "text/html": [
       "<div>\n",
       "<style scoped>\n",
       "    .dataframe tbody tr th:only-of-type {\n",
       "        vertical-align: middle;\n",
       "    }\n",
       "\n",
       "    .dataframe tbody tr th {\n",
       "        vertical-align: top;\n",
       "    }\n",
       "\n",
       "    .dataframe thead th {\n",
       "        text-align: right;\n",
       "    }\n",
       "</style>\n",
       "<table border=\"1\" class=\"dataframe\">\n",
       "  <thead>\n",
       "    <tr style=\"text-align: right;\">\n",
       "      <th></th>\n",
       "      <th>AT</th>\n",
       "      <th>V</th>\n",
       "      <th>AP</th>\n",
       "      <th>RH</th>\n",
       "      <th>PE</th>\n",
       "    </tr>\n",
       "  </thead>\n",
       "  <tbody>\n",
       "    <tr>\n",
       "      <th>0</th>\n",
       "      <td>14.96</td>\n",
       "      <td>41.76</td>\n",
       "      <td>1024.07</td>\n",
       "      <td>73.17</td>\n",
       "      <td>463.26</td>\n",
       "    </tr>\n",
       "    <tr>\n",
       "      <th>1</th>\n",
       "      <td>25.18</td>\n",
       "      <td>62.96</td>\n",
       "      <td>1020.04</td>\n",
       "      <td>59.08</td>\n",
       "      <td>444.37</td>\n",
       "    </tr>\n",
       "    <tr>\n",
       "      <th>2</th>\n",
       "      <td>5.11</td>\n",
       "      <td>39.40</td>\n",
       "      <td>1012.16</td>\n",
       "      <td>92.14</td>\n",
       "      <td>488.56</td>\n",
       "    </tr>\n",
       "    <tr>\n",
       "      <th>3</th>\n",
       "      <td>20.86</td>\n",
       "      <td>57.32</td>\n",
       "      <td>1010.24</td>\n",
       "      <td>76.64</td>\n",
       "      <td>446.48</td>\n",
       "    </tr>\n",
       "    <tr>\n",
       "      <th>4</th>\n",
       "      <td>10.82</td>\n",
       "      <td>37.50</td>\n",
       "      <td>1009.23</td>\n",
       "      <td>96.62</td>\n",
       "      <td>473.90</td>\n",
       "    </tr>\n",
       "  </tbody>\n",
       "</table>\n",
       "</div>"
      ],
      "text/plain": [
       "      AT      V       AP     RH      PE\n",
       "0  14.96  41.76  1024.07  73.17  463.26\n",
       "1  25.18  62.96  1020.04  59.08  444.37\n",
       "2   5.11  39.40  1012.16  92.14  488.56\n",
       "3  20.86  57.32  1010.24  76.64  446.48\n",
       "4  10.82  37.50  1009.23  96.62  473.90"
      ]
     },
     "execution_count": 3,
     "metadata": {},
     "output_type": "execute_result"
    }
   ],
   "source": [
    "dataset = pd.read_csv('Folds5x2_pp.csv')\n",
    "dataset.head()"
   ]
  },
  {
   "cell_type": "code",
   "execution_count": 4,
   "id": "2fcb56cb",
   "metadata": {},
   "outputs": [],
   "source": [
    "X = dataset.drop(['PE'], axis=1).values\n",
    "y = dataset['PE'].values"
   ]
  },
  {
   "cell_type": "code",
   "execution_count": 5,
   "id": "52e5ca97",
   "metadata": {},
   "outputs": [
    {
     "data": {
      "text/plain": [
       "array([[  14.96,   41.76, 1024.07,   73.17],\n",
       "       [  25.18,   62.96, 1020.04,   59.08],\n",
       "       [   5.11,   39.4 , 1012.16,   92.14],\n",
       "       ...,\n",
       "       [  31.32,   74.33, 1012.92,   36.48],\n",
       "       [  24.48,   69.45, 1013.86,   62.39],\n",
       "       [  21.6 ,   62.52, 1017.23,   67.87]])"
      ]
     },
     "execution_count": 5,
     "metadata": {},
     "output_type": "execute_result"
    }
   ],
   "source": [
    "X"
   ]
  },
  {
   "cell_type": "code",
   "execution_count": 6,
   "id": "d940e917",
   "metadata": {},
   "outputs": [
    {
     "data": {
      "text/plain": [
       "array([463.26, 444.37, 488.56, ..., 429.57, 435.74, 453.28])"
      ]
     },
     "execution_count": 6,
     "metadata": {},
     "output_type": "execute_result"
    }
   ],
   "source": [
    "y"
   ]
  },
  {
   "cell_type": "markdown",
   "id": "6fcd8b4e",
   "metadata": {},
   "source": [
    "## Splitting into train test"
   ]
  },
  {
   "cell_type": "code",
   "execution_count": 7,
   "id": "7beb2b8d",
   "metadata": {},
   "outputs": [],
   "source": [
    "X_train, X_test, y_train, y_test = train_test_split(X, y, test_size=0.2, random_state=0)"
   ]
  },
  {
   "cell_type": "markdown",
   "id": "fa3e17f3",
   "metadata": {},
   "source": [
    "## Scaling the data"
   ]
  },
  {
   "cell_type": "code",
   "execution_count": 22,
   "id": "65afb714",
   "metadata": {},
   "outputs": [],
   "source": [
    "sc = StandardScaler()\n",
    "\n",
    "X_train_s = sc.fit_transform(X_train)\n",
    "X_test_s = sc.transform(X_test)"
   ]
  },
  {
   "cell_type": "markdown",
   "id": "36e22858",
   "metadata": {},
   "source": [
    "#  Building the ANN"
   ]
  },
  {
   "cell_type": "markdown",
   "id": "b5d146b3",
   "metadata": {},
   "source": [
    "## Initializing the ANN"
   ]
  },
  {
   "cell_type": "code",
   "execution_count": 8,
   "id": "8645ef56",
   "metadata": {},
   "outputs": [],
   "source": [
    "# variable containing ANN\n",
    "# which is an object of a sequential class\n",
    "\n",
    "ann = tf.keras.models.Sequential()"
   ]
  },
  {
   "cell_type": "code",
   "execution_count": 9,
   "id": "74cfe5e8",
   "metadata": {},
   "outputs": [
    {
     "data": {
      "text/plain": [
       "tensorflow.python.keras.engine.sequential.Sequential"
      ]
     },
     "execution_count": 9,
     "metadata": {},
     "output_type": "execute_result"
    }
   ],
   "source": [
    "type(ann)"
   ]
  },
  {
   "cell_type": "markdown",
   "id": "7100df8a",
   "metadata": {},
   "source": [
    "## Adding input layers and the 1st hidden layer"
   ]
  },
  {
   "cell_type": "code",
   "execution_count": 10,
   "id": "07559f77",
   "metadata": {},
   "outputs": [],
   "source": [
    "# adding fully connected layer\n",
    "# which is an object of Dense class\n",
    "# it automatically add's input layer\n",
    "\n",
    "# units = no.of hidden neurons (experimental hyperparameter)\n",
    "# input layer = no.of neurons \n",
    "# activation function = rectifier function\n",
    "\n",
    "ann.add(tf.keras.layers.Dense(units=6, activation='relu'))"
   ]
  },
  {
   "cell_type": "markdown",
   "id": "0241cb4e",
   "metadata": {},
   "source": [
    "## Adding 2nd hidden layer"
   ]
  },
  {
   "cell_type": "code",
   "execution_count": 11,
   "id": "1742e463",
   "metadata": {},
   "outputs": [],
   "source": [
    "ann.add(tf.keras.layers.Dense(units=6, activation='relu'))"
   ]
  },
  {
   "cell_type": "markdown",
   "id": "7ee2bc64",
   "metadata": {},
   "source": [
    "## Adding the output layer"
   ]
  },
  {
   "cell_type": "code",
   "execution_count": 12,
   "id": "3a92a66e",
   "metadata": {},
   "outputs": [],
   "source": [
    "# units: output is single value so output neuron 1\n",
    "# for regression no activation function\n",
    "\n",
    "ann.add(tf.keras.layers.Dense(units=1))"
   ]
  },
  {
   "cell_type": "markdown",
   "id": "545bc1d6",
   "metadata": {},
   "source": [
    "#  Training ANN"
   ]
  },
  {
   "cell_type": "markdown",
   "id": "c9853c0a",
   "metadata": {},
   "source": [
    "## Compiling the ANN"
   ]
  },
  {
   "cell_type": "code",
   "execution_count": 13,
   "id": "2048eefb",
   "metadata": {},
   "outputs": [],
   "source": [
    "# optimizer: optimizers such as gradiend descent, adam etc.\n",
    "# loss: loss function for any regression problem is MSE\n",
    "# metrics: evaluation metric\n",
    "\n",
    "ann.compile(optimizer='adam', loss='mean_squared_error')"
   ]
  },
  {
   "cell_type": "markdown",
   "id": "db38ac60",
   "metadata": {},
   "source": [
    "## Training the ANN on the training set"
   ]
  },
  {
   "cell_type": "code",
   "execution_count": 24,
   "id": "d8300fb9",
   "metadata": {
    "scrolled": true
   },
   "outputs": [
    {
     "name": "stdout",
     "output_type": "stream",
     "text": [
      "Epoch 1/100\n",
      "240/240 [==============================] - 1s 3ms/step - loss: 181419.9688\n",
      "Epoch 2/100\n",
      "240/240 [==============================] - 1s 3ms/step - loss: 78364.6406\n",
      "Epoch 3/100\n",
      "240/240 [==============================] - 1s 3ms/step - loss: 24912.1289\n",
      "Epoch 4/100\n",
      "240/240 [==============================] - 1s 3ms/step - loss: 16018.9014\n",
      "Epoch 5/100\n",
      "240/240 [==============================] - 1s 3ms/step - loss: 11732.8623\n",
      "Epoch 6/100\n",
      "240/240 [==============================] - 1s 3ms/step - loss: 8116.8857\n",
      "Epoch 7/100\n",
      "240/240 [==============================] - 1s 3ms/step - loss: 5229.8203\n",
      "Epoch 8/100\n",
      "240/240 [==============================] - 1s 3ms/step - loss: 3272.9580\n",
      "Epoch 9/100\n",
      "240/240 [==============================] - 1s 3ms/step - loss: 2065.3293\n",
      "Epoch 10/100\n",
      "240/240 [==============================] - 1s 3ms/step - loss: 1321.3352\n",
      "Epoch 11/100\n",
      "240/240 [==============================] - 1s 3ms/step - loss: 864.7410\n",
      "Epoch 12/100\n",
      "240/240 [==============================] - 1s 3ms/step - loss: 590.5104\n",
      "Epoch 13/100\n",
      "240/240 [==============================] - 1s 3ms/step - loss: 423.6211\n",
      "Epoch 14/100\n",
      "240/240 [==============================] - 1s 3ms/step - loss: 316.4200\n",
      "Epoch 15/100\n",
      "240/240 [==============================] - 1s 3ms/step - loss: 242.9867\n",
      "Epoch 16/100\n",
      "240/240 [==============================] - 1s 4ms/step - loss: 190.5042\n",
      "Epoch 17/100\n",
      "240/240 [==============================] - 1s 4ms/step - loss: 151.8239\n",
      "Epoch 18/100\n",
      "240/240 [==============================] - 1s 3ms/step - loss: 122.6282\n",
      "Epoch 19/100\n",
      "240/240 [==============================] - 1s 3ms/step - loss: 100.2283\n",
      "Epoch 20/100\n",
      "240/240 [==============================] - 1s 3ms/step - loss: 82.6644\n",
      "Epoch 21/100\n",
      "240/240 [==============================] - 1s 3ms/step - loss: 68.1633\n",
      "Epoch 22/100\n",
      "240/240 [==============================] - 1s 3ms/step - loss: 56.6516\n",
      "Epoch 23/100\n",
      "240/240 [==============================] - 1s 3ms/step - loss: 47.5822\n",
      "Epoch 24/100\n",
      "240/240 [==============================] - 1s 3ms/step - loss: 40.5791\n",
      "Epoch 25/100\n",
      "240/240 [==============================] - 1s 3ms/step - loss: 35.3129\n",
      "Epoch 26/100\n",
      "240/240 [==============================] - 1s 3ms/step - loss: 31.3648\n",
      "Epoch 27/100\n",
      "240/240 [==============================] - 1s 3ms/step - loss: 28.4262\n",
      "Epoch 28/100\n",
      "240/240 [==============================] - 1s 3ms/step - loss: 26.3407\n",
      "Epoch 29/100\n",
      "240/240 [==============================] - 1s 3ms/step - loss: 24.8129\n",
      "Epoch 30/100\n",
      "240/240 [==============================] - 1s 3ms/step - loss: 23.8370\n",
      "Epoch 31/100\n",
      "240/240 [==============================] - 1s 3ms/step - loss: 23.1534\n",
      "Epoch 32/100\n",
      "240/240 [==============================] - 1s 3ms/step - loss: 22.7187\n",
      "Epoch 33/100\n",
      "240/240 [==============================] - 1s 3ms/step - loss: 22.3534\n",
      "Epoch 34/100\n",
      "240/240 [==============================] - 1s 3ms/step - loss: 22.1382\n",
      "Epoch 35/100\n",
      "240/240 [==============================] - 1s 3ms/step - loss: 22.0028\n",
      "Epoch 36/100\n",
      "240/240 [==============================] - 1s 3ms/step - loss: 21.9521\n",
      "Epoch 37/100\n",
      "240/240 [==============================] - 1s 3ms/step - loss: 21.8580\n",
      "Epoch 38/100\n",
      "240/240 [==============================] - 1s 3ms/step - loss: 21.8212\n",
      "Epoch 39/100\n",
      "240/240 [==============================] - 1s 3ms/step - loss: 21.5707\n",
      "Epoch 40/100\n",
      "240/240 [==============================] - 1s 4ms/step - loss: 21.6742\n",
      "Epoch 41/100\n",
      "240/240 [==============================] - 1s 3ms/step - loss: 21.4811\n",
      "Epoch 42/100\n",
      "240/240 [==============================] - 1s 3ms/step - loss: 21.5218\n",
      "Epoch 43/100\n",
      "240/240 [==============================] - 1s 3ms/step - loss: 21.4947\n",
      "Epoch 44/100\n",
      "240/240 [==============================] - 1s 3ms/step - loss: 21.6618\n",
      "Epoch 45/100\n",
      "240/240 [==============================] - 1s 3ms/step - loss: 21.5585\n",
      "Epoch 46/100\n",
      "240/240 [==============================] - 1s 4ms/step - loss: 21.4784\n",
      "Epoch 47/100\n",
      "240/240 [==============================] - 1s 3ms/step - loss: 21.4934\n",
      "Epoch 48/100\n",
      "240/240 [==============================] - 1s 3ms/step - loss: 21.2523\n",
      "Epoch 49/100\n",
      "240/240 [==============================] - 1s 3ms/step - loss: 21.4828\n",
      "Epoch 50/100\n",
      "240/240 [==============================] - 1s 3ms/step - loss: 21.5042\n",
      "Epoch 51/100\n",
      "240/240 [==============================] - 1s 3ms/step - loss: 21.3375\n",
      "Epoch 52/100\n",
      "240/240 [==============================] - 1s 3ms/step - loss: 21.4829\n",
      "Epoch 53/100\n",
      "240/240 [==============================] - 1s 3ms/step - loss: 21.6190\n",
      "Epoch 54/100\n",
      "240/240 [==============================] - 1s 3ms/step - loss: 21.3704\n",
      "Epoch 55/100\n",
      "240/240 [==============================] - 1s 3ms/step - loss: 21.3344\n",
      "Epoch 56/100\n",
      "240/240 [==============================] - 1s 4ms/step - loss: 21.3553\n",
      "Epoch 57/100\n",
      "240/240 [==============================] - 1s 3ms/step - loss: 21.3784\n",
      "Epoch 58/100\n",
      "240/240 [==============================] - 1s 3ms/step - loss: 21.4279\n",
      "Epoch 59/100\n",
      "240/240 [==============================] - 1s 3ms/step - loss: 21.3643\n",
      "Epoch 60/100\n",
      "240/240 [==============================] - 1s 3ms/step - loss: 21.3825\n",
      "Epoch 61/100\n",
      "240/240 [==============================] - 1s 3ms/step - loss: 21.3791\n",
      "Epoch 62/100\n",
      "240/240 [==============================] - 1s 3ms/step - loss: 21.3383\n",
      "Epoch 63/100\n",
      "240/240 [==============================] - 1s 3ms/step - loss: 21.3706\n",
      "Epoch 64/100\n",
      "240/240 [==============================] - 1s 3ms/step - loss: 21.6245\n",
      "Epoch 65/100\n",
      "240/240 [==============================] - 1s 3ms/step - loss: 21.4374\n",
      "Epoch 66/100\n",
      "240/240 [==============================] - 1s 3ms/step - loss: 21.3908\n",
      "Epoch 67/100\n",
      "240/240 [==============================] - 1s 3ms/step - loss: 21.3288\n",
      "Epoch 68/100\n",
      "240/240 [==============================] - 1s 3ms/step - loss: 21.3006\n",
      "Epoch 69/100\n",
      "240/240 [==============================] - 1s 3ms/step - loss: 21.3818\n",
      "Epoch 70/100\n",
      "240/240 [==============================] - 1s 3ms/step - loss: 21.3294\n",
      "Epoch 71/100\n",
      "240/240 [==============================] - 1s 3ms/step - loss: 21.4085\n",
      "Epoch 72/100\n",
      "240/240 [==============================] - 1s 3ms/step - loss: 21.3307\n",
      "Epoch 73/100\n",
      "240/240 [==============================] - 1s 3ms/step - loss: 21.3405\n",
      "Epoch 74/100\n",
      "240/240 [==============================] - 1s 3ms/step - loss: 21.3347\n",
      "Epoch 75/100\n",
      "240/240 [==============================] - 1s 3ms/step - loss: 21.3090\n",
      "Epoch 76/100\n",
      "240/240 [==============================] - 1s 3ms/step - loss: 21.4089\n",
      "Epoch 77/100\n",
      "240/240 [==============================] - 1s 3ms/step - loss: 21.3610\n",
      "Epoch 78/100\n",
      "240/240 [==============================] - 1s 3ms/step - loss: 21.3853\n",
      "Epoch 79/100\n",
      "240/240 [==============================] - 1s 3ms/step - loss: 21.3651\n",
      "Epoch 80/100\n",
      "240/240 [==============================] - 1s 3ms/step - loss: 21.4428\n",
      "Epoch 81/100\n",
      "240/240 [==============================] - 1s 3ms/step - loss: 21.2905\n",
      "Epoch 82/100\n",
      "240/240 [==============================] - 1s 3ms/step - loss: 21.2853\n",
      "Epoch 83/100\n",
      "240/240 [==============================] - 1s 3ms/step - loss: 21.2750\n",
      "Epoch 84/100\n",
      "240/240 [==============================] - 1s 3ms/step - loss: 21.4008\n",
      "Epoch 85/100\n",
      "240/240 [==============================] - 1s 3ms/step - loss: 21.3169\n",
      "Epoch 86/100\n",
      "240/240 [==============================] - 1s 3ms/step - loss: 21.2409\n",
      "Epoch 87/100\n",
      "240/240 [==============================] - 1s 3ms/step - loss: 21.3631\n",
      "Epoch 88/100\n",
      "240/240 [==============================] - 1s 3ms/step - loss: 21.2784\n",
      "Epoch 89/100\n",
      "240/240 [==============================] - 1s 3ms/step - loss: 21.3917\n",
      "Epoch 90/100\n",
      "240/240 [==============================] - 1s 3ms/step - loss: 21.3630\n",
      "Epoch 91/100\n",
      "240/240 [==============================] - 1s 3ms/step - loss: 21.1937\n",
      "Epoch 92/100\n",
      "240/240 [==============================] - 1s 3ms/step - loss: 21.3148\n",
      "Epoch 93/100\n",
      "240/240 [==============================] - 1s 3ms/step - loss: 21.2736\n",
      "Epoch 94/100\n",
      "240/240 [==============================] - 1s 3ms/step - loss: 21.2515\n",
      "Epoch 95/100\n",
      "240/240 [==============================] - 1s 3ms/step - loss: 21.1469\n",
      "Epoch 96/100\n",
      "240/240 [==============================] - 1s 3ms/step - loss: 21.2316\n",
      "Epoch 97/100\n",
      "240/240 [==============================] - 1s 3ms/step - loss: 21.4703\n",
      "Epoch 98/100\n",
      "240/240 [==============================] - 1s 3ms/step - loss: 21.3177\n",
      "Epoch 99/100\n",
      "240/240 [==============================] - 1s 3ms/step - loss: 21.1904\n",
      "Epoch 100/100\n",
      "240/240 [==============================] - 1s 3ms/step - loss: 21.2086\n"
     ]
    },
    {
     "data": {
      "text/plain": [
       "<tensorflow.python.keras.callbacks.History at 0x2d303d5c908>"
      ]
     },
     "execution_count": 24,
     "metadata": {},
     "output_type": "execute_result"
    }
   ],
   "source": [
    "# batch_size: instead of compairing prediction to real result one by one,\n",
    "# compare several predictions with several real values\n",
    "# epochs: 1 epoch completes when all rows are used to train\n",
    "\n",
    "ann.fit(X_train_s, y_train, batch_size=32, epochs=100)"
   ]
  },
  {
   "cell_type": "markdown",
   "id": "dfc49a76",
   "metadata": {},
   "source": [
    "#  Making the predictions and evaluating the model"
   ]
  },
  {
   "cell_type": "markdown",
   "id": "899ecfac",
   "metadata": {},
   "source": [
    "Therefore, our ANN model predicts that this customer stays in the bank"
   ]
  },
  {
   "cell_type": "markdown",
   "id": "7c8f8433",
   "metadata": {},
   "source": [
    "## Predicting the test set resulta"
   ]
  },
  {
   "cell_type": "code",
   "execution_count": 25,
   "id": "a5613c4c",
   "metadata": {},
   "outputs": [
    {
     "name": "stdout",
     "output_type": "stream",
     "text": [
      "[[432.53 431.23]\n",
      " [457.7  460.01]\n",
      " [461.89 461.14]\n",
      " ...\n",
      " [468.   473.26]\n",
      " [443.17 438.  ]\n",
      " [461.55 463.28]]\n"
     ]
    }
   ],
   "source": [
    "y_pred = ann.predict(X_test_s)\n",
    "np.set_printoptions(precision=2)\n",
    "print(np.concatenate((y_pred.reshape(len(y_pred),1), y_test.reshape(len(y_test),1)),1))"
   ]
  },
  {
   "cell_type": "markdown",
   "id": "f2015f3b",
   "metadata": {},
   "source": [
    "## Root mean square error"
   ]
  },
  {
   "cell_type": "code",
   "execution_count": 26,
   "id": "4bfd9881",
   "metadata": {},
   "outputs": [
    {
     "data": {
      "text/plain": [
       "4.54943367232806"
      ]
     },
     "execution_count": 26,
     "metadata": {},
     "output_type": "execute_result"
    }
   ],
   "source": [
    "np.sqrt(mean_squared_error(y_test, y_pred))"
   ]
  },
  {
   "cell_type": "code",
   "execution_count": null,
   "id": "60d1483c",
   "metadata": {},
   "outputs": [],
   "source": []
  }
 ],
 "metadata": {
  "kernelspec": {
   "display_name": "Python 3",
   "language": "python",
   "name": "python3"
  },
  "language_info": {
   "codemirror_mode": {
    "name": "ipython",
    "version": 3
   },
   "file_extension": ".py",
   "mimetype": "text/x-python",
   "name": "python",
   "nbconvert_exporter": "python",
   "pygments_lexer": "ipython3",
   "version": "3.6.6"
  }
 },
 "nbformat": 4,
 "nbformat_minor": 5
}
